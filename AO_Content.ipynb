{
  "nbformat": 4,
  "nbformat_minor": 0,
  "metadata": {
    "colab": {
      "provenance": []
    },
    "kernelspec": {
      "name": "python3",
      "display_name": "Python 3"
    },
    "language_info": {
      "name": "python"
    }
  },
  "cells": [
    {
      "cell_type": "markdown",
      "source": [
        "# ELEC70066 - Advanced Optimisation"
      ],
      "metadata": {
        "id": "ank_7OLLfPs1"
      }
    },
    {
      "cell_type": "markdown",
      "source": [
        "---\n",
        "---\n",
        "\n",
        "**Author:** Dr Giordano Scarciotti (g.scarciotti@imperial.ac.uk) - Imperial College London \n",
        "\n",
        "**Module:** ELEC70066 - Advanced Optimisation\n",
        "\n",
        "**Version:** 1.0.5 - 12/01/2023\n",
        "\n",
        "---\n",
        "---"
      ],
      "metadata": {
        "id": "ObYU0Y4wkvuT"
      }
    },
    {
      "cell_type": "markdown",
      "source": [
        "## Aim"
      ],
      "metadata": {
        "id": "JGQIz0_BlA7r"
      }
    },
    {
      "cell_type": "markdown",
      "source": [
        "The aim of this module is to equip you with the tools to formulate and solve applied optimisation problems. The module covers several topics in optimisation such as convex optimisation, integer programming, multi-objective optimisation and formulation and solution of applied optimisation problems. Most of these topics are covered through the lens of convex optimisation. Each topic is covered with an application-driven mindset (i.e. techniques are covered because they are useful in practice). \n",
        "\n",
        "The module assumes prior basic optimisation knowledge such as descent methods and constrained optimisation. This prior knowledge may be acquired in the Autumn module \"Optimisation\" although that module is not a prerequisite. Basic knowledge of Python is assumed (equivalent to any 4/5-hour long tutorial course available online for free)."
      ],
      "metadata": {
        "id": "jGxbCB8dfWrc"
      }
    },
    {
      "cell_type": "markdown",
      "source": [
        "The induction presentation of Friday 13/01/2023 is available on Panoto [at this link](https://imperial.cloud.panopto.eu/Panopto/Pages/Viewer.aspx?id=5edbe7a1-7503-4783-b8fb-af84009463fa)"
      ],
      "metadata": {
        "id": "ywz987HkRSG-"
      }
    },
    {
      "cell_type": "markdown",
      "source": [
        "## Delivery"
      ],
      "metadata": {
        "id": "2cPCgJc0ba_0"
      }
    },
    {
      "cell_type": "markdown",
      "source": [
        "The module is delivered using Flipped Classroom with Team-Based Learning. During the first meeting I will explain in detail the teaching delivery of the course. In short, the lectures are recorded and provided to you in advance, while study activities will be done together in groups during the Friday meetings. Moreover, the module will make use of \"smart handouts\". These are Python notebooks in which videos, text, code and exercises are all blended together.\n",
        "\n",
        "Every week you will:\n",
        "\n",
        "- Watch the recorded lectures and read the handouts at home.\n",
        "- At any time during the week, you will complete a short test (iRAT) at home. This is an easy test: its purpose is just ensure that you watched the videos and read the handouts as expected.\n",
        "- In class you will be divided in groups and work on problems together for the first hour and a half. In the last half an hour, your group will solve a small assessed exercise as a team (tRAT)\n",
        "\n",
        "Note that this course has both a strong theoretical component and a strong applied component:\n",
        "\n",
        "- In class, you will be asked every week to solve an applied optimisation problem, from the formulation to the numerical solution. There will be also theoretical exercises.\n",
        "- At home, you will cover the theory in the lectures.\n",
        "\n",
        "The coursework will mostly focus on your applied skills. The exam will mostly focus on your theoretical skills."
      ],
      "metadata": {
        "id": "vVv9_3yZfWtz"
      }
    },
    {
      "cell_type": "markdown",
      "source": [
        "## Content"
      ],
      "metadata": {
        "id": "7W-bHxWRfWv_"
      }
    },
    {
      "cell_type": "markdown",
      "source": [
        "The module for the academic year 2022/2023 will cover the following chapters:\n",
        "\n",
        "*   **Chapter 1:** [Approximation and Fitting Problems](https://colab.research.google.com/drive/1efBkJ5F5U6QpIT4nU6QzxM5mZq5I6iv4?usp=sharing) (*Applications*)\n",
        "*   **Chapter 2:** Statistical Problems (*Applications*)\n",
        "*   **Chapter 3:** Convex Sets (*Theory - Mathematics*)\n",
        "*   **Chapter 4:** Convex Functions (*Theory - Mathematics*)\n",
        "*   **Chapter 5:** Convex Optimisation Problems (*Theory - Mathematics*)\n",
        "*   **Chapter 6:** Duality (*Theory - Mathematics*)\n",
        "*   **Chapter 7:** Unconstrained Minimisation (*Algorithms*)\n",
        "*   **Chapter 8:** Equality Constraints Minimisation (*Algorithms*)\n",
        "*   **Chapter 9:** Interior-points Methods\n",
        "*   **Chapter 10:** TBC\n",
        "\n",
        "\n"
      ],
      "metadata": {
        "id": "XQttbFvQi0ZL"
      }
    }
  ]
}